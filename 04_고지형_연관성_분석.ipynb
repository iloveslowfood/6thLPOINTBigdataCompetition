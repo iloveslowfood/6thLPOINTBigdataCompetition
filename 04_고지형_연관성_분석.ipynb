{
 "cells": [
  {
   "cell_type": "markdown",
   "metadata": {},
   "source": [
    "# 상품 간 연관성 분석\n",
    "- 판매되는 상품 간 연관성에 대해 탐색합니다.\n",
    "- '기저귀와 맥주는 함께 팔리는 경향이 있다'는 사실에 대한 호기심에서 시작된 분석입니다.\n",
    "- 장바구니 분석(Market Basker Analysis)의 지표를 통해 수치적으로 확인할 수 있습니다.\n",
    "- 'A 상품과 B 상품이 함께 팔릴 확률이 P더라'라는 분석 결과를 재해석하여 모델에 반영합니다.\n",
    "    - '고객 맞춤 상품 추천'의 상황에 적합한 학습 데이터를 구성하고, 예측 결과값으로는 각 카테고리에 대한 probability값을 반환하도록 모델링하였습니다.(소프트맥스)"
   ]
  },
  {
   "cell_type": "markdown",
   "metadata": {},
   "source": [
    "## import & load data"
   ]
  },
  {
   "cell_type": "code",
   "execution_count": 13,
   "metadata": {
    "code_folding": []
   },
   "outputs": [],
   "source": [
    "# import library\n",
    "import math\n",
    "import numpy as np \n",
    "import pandas as pd \n",
    "pd.set_option(\"display.max_rows\", 500)\n",
    "pd.set_option(\"display.max_columns\", 500)\n",
    "import itertools\n",
    "\n",
    "# market basket analysis libraries\n",
    "from mlxtend.preprocessing import TransactionEncoder\n",
    "from mlxtend.frequent_patterns import apriori, association_rules\n",
    "import networkx as nx\n",
    "\n",
    "# visualizaition\n",
    "import matplotlib.pyplot as plt\n",
    "import matplotlib.font_manager as fm\n",
    "import missingno as msno\n",
    "import seaborn as sns\n",
    "sns.set_style('whitegrid')\n",
    "\n",
    "# font error correction\n",
    "path = 'C:/Windows/Fonts/malgun.ttf'\n",
    "font_name = fm.FontProperties(fname=path, size=50).get_name()\n",
    "plt.rc('font', family=font_name)\n",
    "\n",
    "import warnings\n",
    "warnings.filterwarnings('ignore')\n",
    "from tqdm import tqdm_notebook as tq"
   ]
  },
  {
   "cell_type": "code",
   "execution_count": 14,
   "metadata": {},
   "outputs": [],
   "source": [
    "# dtype pre-set for loading data efficiently\n",
    "cks_dtype = {'clnt_id':'int64','sess_id':'int64','hit_seq':'int64','action_type':'int64','biz_unit':'category','sess_dt':'object','hit_tm':'object',\n",
    "             'hit_pss_tm':'int64','trans_id':'float64','sech_kwd':'object','tot_pag_view_ct':'float64','tot_sess_hr_v':'float64','trfc_src':'category',\n",
    "             'dvc_ctg_nm':'object','pd_c':'object','de_dt':'object','de_tm':'object','buy_am':'int64','buy_ct':'int64','clnt_gender':'category',\n",
    "             'clnt_age':'category'}\n",
    "df1online = pd.read_csv('./DATA/온라인 행동 정보(CKS).csv', dtype=cks_dtype)\n",
    "df2trade = pd.read_csv('./DATA/거래 정보(CKS).csv', dtype=cks_dtype)\n",
    "df3custom = pd.read_csv('./DATA/고객 정보(CKS).csv', dtype=cks_dtype)\n",
    "df4item = pd.read_csv('./DATA/상품분류 정보(CKS).csv', dtype=cks_dtype)"
   ]
  },
  {
   "cell_type": "markdown",
   "metadata": {},
   "source": [
    "# data organization"
   ]
  },
  {
   "cell_type": "markdown",
   "metadata": {},
   "source": [
    "## df3_known\n",
    "- 고객정보데이터(df3custom)에서 `unknown`과 10대(`clnt_age = 10`)를 제외하고, 고객 유형(`clnt_type`)을 태깅한 데이터입니다.\n",
    "- 온라인행동데이터(df1online)에 `clnt_id`를 기준으로 left join할 예정입니다."
   ]
  },
  {
   "cell_type": "markdown",
   "metadata": {},
   "source": [
    "* unknown 및 10대 제거"
   ]
  },
  {
   "cell_type": "code",
   "execution_count": 15,
   "metadata": {},
   "outputs": [
    {
     "name": "stdout",
     "output_type": "stream",
     "text": [
      "(12245, 3)\n"
     ]
    },
    {
     "data": {
      "text/html": [
       "<div>\n",
       "<style scoped>\n",
       "    .dataframe tbody tr th:only-of-type {\n",
       "        vertical-align: middle;\n",
       "    }\n",
       "\n",
       "    .dataframe tbody tr th {\n",
       "        vertical-align: top;\n",
       "    }\n",
       "\n",
       "    .dataframe thead th {\n",
       "        text-align: right;\n",
       "    }\n",
       "</style>\n",
       "<table border=\"1\" class=\"dataframe\">\n",
       "  <thead>\n",
       "    <tr style=\"text-align: right;\">\n",
       "      <th></th>\n",
       "      <th>clnt_id</th>\n",
       "      <th>clnt_gender</th>\n",
       "      <th>clnt_age</th>\n",
       "    </tr>\n",
       "  </thead>\n",
       "  <tbody>\n",
       "    <tr>\n",
       "      <td>0</td>\n",
       "      <td>2</td>\n",
       "      <td>F</td>\n",
       "      <td>30.0</td>\n",
       "    </tr>\n",
       "    <tr>\n",
       "      <td>1</td>\n",
       "      <td>9</td>\n",
       "      <td>F</td>\n",
       "      <td>40.0</td>\n",
       "    </tr>\n",
       "    <tr>\n",
       "      <td>2</td>\n",
       "      <td>12</td>\n",
       "      <td>F</td>\n",
       "      <td>40.0</td>\n",
       "    </tr>\n",
       "    <tr>\n",
       "      <td>3</td>\n",
       "      <td>20</td>\n",
       "      <td>F</td>\n",
       "      <td>30.0</td>\n",
       "    </tr>\n",
       "    <tr>\n",
       "      <td>4</td>\n",
       "      <td>22</td>\n",
       "      <td>M</td>\n",
       "      <td>30.0</td>\n",
       "    </tr>\n",
       "  </tbody>\n",
       "</table>\n",
       "</div>"
      ],
      "text/plain": [
       "   clnt_id clnt_gender clnt_age\n",
       "0        2           F     30.0\n",
       "1        9           F     40.0\n",
       "2       12           F     40.0\n",
       "3       20           F     30.0\n",
       "4       22           M     30.0"
      ]
     },
     "execution_count": 15,
     "metadata": {},
     "output_type": "execute_result"
    }
   ],
   "source": [
    "df3_known = df3custom[~df3custom['clnt_gender'].isnull()] # 회원만(비회원 제외)\n",
    "df3_known = df3_known[df3_known['clnt_age'] != 10].reset_index(drop = True) # 10대 제거\n",
    "print(df3_known.shape)\n",
    "df3_known.head()"
   ]
  },
  {
   "cell_type": "markdown",
   "metadata": {},
   "source": [
    "* 고객 유형(`clnt_type`) 태깅  \n",
    "20대 여성, 30대 여성, ... , 60대 여성, 20대 남성, 30대 남성, ... , 60대 남성 => `0, 1, 2, 3, ... , 9`로 카테고리화"
   ]
  },
  {
   "cell_type": "code",
   "execution_count": 16,
   "metadata": {},
   "outputs": [
    {
     "data": {
      "text/plain": [
       "2    4200\n",
       "1    3680\n",
       "3    1435\n",
       "0     808\n",
       "7     748\n",
       "6     627\n",
       "8     259\n",
       "4     241\n",
       "5     162\n",
       "9      85\n",
       "Name: clnt_type, dtype: int64"
      ]
     },
     "execution_count": 16,
     "metadata": {},
     "output_type": "execute_result"
    }
   ],
   "source": [
    "df3_known['clnt_type'] = 0 # clnt_type 컬럼 생성: 연령과 성별을 고려한 10개의 클래스(20대여성, 30대여성, ... , 60대여성... , 20대남성, 30대남성, .. , 60대남성)\n",
    "\n",
    "genders = ['F', 'M']\n",
    "age_group = ['20.0', '30.0', '40.0', '50.0', '60.0']\n",
    "k = 0\n",
    "\n",
    "for gender in genders:\n",
    "    for age in age_group:\n",
    "        temp = df3_known[(df3_known['clnt_gender']==gender) & (df3_known['clnt_age'] == age)].index\n",
    "        df3_known.loc[temp, 'clnt_type'] = k\n",
    "        k+=1\n",
    "\n",
    "df3_known['clnt_type'].value_counts()"
   ]
  },
  {
   "cell_type": "markdown",
   "metadata": {},
   "source": [
    "## df_transO\n",
    "- 온라인행동데이터(df1online)에서 거래 정보가 존재하는 고객만을 필터링한 데이터입니다."
   ]
  },
  {
   "cell_type": "code",
   "execution_count": 17,
   "metadata": {},
   "outputs": [
    {
     "data": {
      "text/html": [
       "<div>\n",
       "<style scoped>\n",
       "    .dataframe tbody tr th:only-of-type {\n",
       "        vertical-align: middle;\n",
       "    }\n",
       "\n",
       "    .dataframe tbody tr th {\n",
       "        vertical-align: top;\n",
       "    }\n",
       "\n",
       "    .dataframe thead th {\n",
       "        text-align: right;\n",
       "    }\n",
       "</style>\n",
       "<table border=\"1\" class=\"dataframe\">\n",
       "  <thead>\n",
       "    <tr style=\"text-align: right;\">\n",
       "      <th></th>\n",
       "      <th>clnt_id</th>\n",
       "      <th>sess_id</th>\n",
       "      <th>hit_seq</th>\n",
       "      <th>action_type</th>\n",
       "      <th>biz_unit</th>\n",
       "      <th>sess_dt</th>\n",
       "      <th>hit_tm</th>\n",
       "      <th>hit_pss_tm</th>\n",
       "      <th>trans_id</th>\n",
       "      <th>sech_kwd</th>\n",
       "      <th>tot_pag_view_ct</th>\n",
       "      <th>tot_sess_hr_v</th>\n",
       "      <th>trfc_src</th>\n",
       "      <th>dvc_ctg_nm</th>\n",
       "    </tr>\n",
       "  </thead>\n",
       "  <tbody>\n",
       "    <tr>\n",
       "      <td>0</td>\n",
       "      <td>2</td>\n",
       "      <td>1</td>\n",
       "      <td>1</td>\n",
       "      <td>0</td>\n",
       "      <td>A03</td>\n",
       "      <td>20190728</td>\n",
       "      <td>23:35</td>\n",
       "      <td>39532</td>\n",
       "      <td>NaN</td>\n",
       "      <td>레쓰비</td>\n",
       "      <td>61.0</td>\n",
       "      <td>911.0</td>\n",
       "      <td>DIRECT</td>\n",
       "      <td>unknown</td>\n",
       "    </tr>\n",
       "    <tr>\n",
       "      <td>1</td>\n",
       "      <td>2</td>\n",
       "      <td>1</td>\n",
       "      <td>2</td>\n",
       "      <td>1</td>\n",
       "      <td>A03</td>\n",
       "      <td>20190728</td>\n",
       "      <td>23:35</td>\n",
       "      <td>47232</td>\n",
       "      <td>NaN</td>\n",
       "      <td>NaN</td>\n",
       "      <td>61.0</td>\n",
       "      <td>911.0</td>\n",
       "      <td>DIRECT</td>\n",
       "      <td>unknown</td>\n",
       "    </tr>\n",
       "    <tr>\n",
       "      <td>2</td>\n",
       "      <td>2</td>\n",
       "      <td>1</td>\n",
       "      <td>3</td>\n",
       "      <td>2</td>\n",
       "      <td>A03</td>\n",
       "      <td>20190728</td>\n",
       "      <td>23:35</td>\n",
       "      <td>48087</td>\n",
       "      <td>NaN</td>\n",
       "      <td>NaN</td>\n",
       "      <td>61.0</td>\n",
       "      <td>911.0</td>\n",
       "      <td>DIRECT</td>\n",
       "      <td>unknown</td>\n",
       "    </tr>\n",
       "    <tr>\n",
       "      <td>3</td>\n",
       "      <td>2</td>\n",
       "      <td>1</td>\n",
       "      <td>4</td>\n",
       "      <td>0</td>\n",
       "      <td>A03</td>\n",
       "      <td>20190728</td>\n",
       "      <td>23:35</td>\n",
       "      <td>62794</td>\n",
       "      <td>NaN</td>\n",
       "      <td>레쓰비</td>\n",
       "      <td>61.0</td>\n",
       "      <td>911.0</td>\n",
       "      <td>DIRECT</td>\n",
       "      <td>unknown</td>\n",
       "    </tr>\n",
       "    <tr>\n",
       "      <td>4</td>\n",
       "      <td>2</td>\n",
       "      <td>1</td>\n",
       "      <td>5</td>\n",
       "      <td>0</td>\n",
       "      <td>A03</td>\n",
       "      <td>20190728</td>\n",
       "      <td>23:36</td>\n",
       "      <td>104074</td>\n",
       "      <td>NaN</td>\n",
       "      <td>레쓰비</td>\n",
       "      <td>61.0</td>\n",
       "      <td>911.0</td>\n",
       "      <td>DIRECT</td>\n",
       "      <td>unknown</td>\n",
       "    </tr>\n",
       "  </tbody>\n",
       "</table>\n",
       "</div>"
      ],
      "text/plain": [
       "   clnt_id  sess_id  hit_seq  action_type biz_unit   sess_dt hit_tm  \\\n",
       "0        2        1        1            0      A03  20190728  23:35   \n",
       "1        2        1        2            1      A03  20190728  23:35   \n",
       "2        2        1        3            2      A03  20190728  23:35   \n",
       "3        2        1        4            0      A03  20190728  23:35   \n",
       "4        2        1        5            0      A03  20190728  23:36   \n",
       "\n",
       "   hit_pss_tm  trans_id sech_kwd  tot_pag_view_ct  tot_sess_hr_v trfc_src  \\\n",
       "0       39532       NaN      레쓰비             61.0          911.0   DIRECT   \n",
       "1       47232       NaN      NaN             61.0          911.0   DIRECT   \n",
       "2       48087       NaN      NaN             61.0          911.0   DIRECT   \n",
       "3       62794       NaN      레쓰비             61.0          911.0   DIRECT   \n",
       "4      104074       NaN      레쓰비             61.0          911.0   DIRECT   \n",
       "\n",
       "  dvc_ctg_nm  \n",
       "0    unknown  \n",
       "1    unknown  \n",
       "2    unknown  \n",
       "3    unknown  \n",
       "4    unknown  "
      ]
     },
     "execution_count": 17,
     "metadata": {},
     "output_type": "execute_result"
    }
   ],
   "source": [
    "df1_known = df1online[df1online['clnt_id'].isin(df3_known['clnt_id'].to_list())]\n",
    "df1_known = df1_known.sort_values(by = ['clnt_id', 'sess_id', 'hit_seq']).reset_index(drop = True)\n",
    "df1_known.head()"
   ]
  },
  {
   "cell_type": "code",
   "execution_count": 18,
   "metadata": {},
   "outputs": [],
   "source": [
    "# 거래정보(trans_id)를 적어도 하나 가지고있는(결측값이 아닌) 세션만을 가져오기 위한 사용자정의함수입니다.\n",
    "\n",
    "# determine function\n",
    "def det_(df):\n",
    "    nrows = df.shape[0]\n",
    "    if df['trans_id'].isnull().value_counts().iloc[0] != nrows:\n",
    "        return df"
   ]
  },
  {
   "cell_type": "code",
   "execution_count": 19,
   "metadata": {},
   "outputs": [
    {
     "data": {
      "text/html": [
       "<div>\n",
       "<style scoped>\n",
       "    .dataframe tbody tr th:only-of-type {\n",
       "        vertical-align: middle;\n",
       "    }\n",
       "\n",
       "    .dataframe tbody tr th {\n",
       "        vertical-align: top;\n",
       "    }\n",
       "\n",
       "    .dataframe thead th {\n",
       "        text-align: right;\n",
       "    }\n",
       "</style>\n",
       "<table border=\"1\" class=\"dataframe\">\n",
       "  <thead>\n",
       "    <tr style=\"text-align: right;\">\n",
       "      <th></th>\n",
       "      <th>clnt_id</th>\n",
       "      <th>sess_id</th>\n",
       "      <th>hit_seq</th>\n",
       "      <th>action_type</th>\n",
       "      <th>biz_unit</th>\n",
       "      <th>sess_dt</th>\n",
       "      <th>hit_tm</th>\n",
       "      <th>hit_pss_tm</th>\n",
       "      <th>trans_id</th>\n",
       "      <th>sech_kwd</th>\n",
       "      <th>tot_pag_view_ct</th>\n",
       "      <th>tot_sess_hr_v</th>\n",
       "      <th>trfc_src</th>\n",
       "      <th>dvc_ctg_nm</th>\n",
       "    </tr>\n",
       "  </thead>\n",
       "  <tbody>\n",
       "    <tr>\n",
       "      <td>0</td>\n",
       "      <td>2</td>\n",
       "      <td>1</td>\n",
       "      <td>1</td>\n",
       "      <td>0</td>\n",
       "      <td>A03</td>\n",
       "      <td>20190728</td>\n",
       "      <td>23:35</td>\n",
       "      <td>39532</td>\n",
       "      <td>NaN</td>\n",
       "      <td>레쓰비</td>\n",
       "      <td>61.0</td>\n",
       "      <td>911.0</td>\n",
       "      <td>DIRECT</td>\n",
       "      <td>unknown</td>\n",
       "    </tr>\n",
       "    <tr>\n",
       "      <td>1</td>\n",
       "      <td>2</td>\n",
       "      <td>1</td>\n",
       "      <td>2</td>\n",
       "      <td>1</td>\n",
       "      <td>A03</td>\n",
       "      <td>20190728</td>\n",
       "      <td>23:35</td>\n",
       "      <td>47232</td>\n",
       "      <td>NaN</td>\n",
       "      <td>NaN</td>\n",
       "      <td>61.0</td>\n",
       "      <td>911.0</td>\n",
       "      <td>DIRECT</td>\n",
       "      <td>unknown</td>\n",
       "    </tr>\n",
       "    <tr>\n",
       "      <td>2</td>\n",
       "      <td>2</td>\n",
       "      <td>1</td>\n",
       "      <td>3</td>\n",
       "      <td>2</td>\n",
       "      <td>A03</td>\n",
       "      <td>20190728</td>\n",
       "      <td>23:35</td>\n",
       "      <td>48087</td>\n",
       "      <td>NaN</td>\n",
       "      <td>NaN</td>\n",
       "      <td>61.0</td>\n",
       "      <td>911.0</td>\n",
       "      <td>DIRECT</td>\n",
       "      <td>unknown</td>\n",
       "    </tr>\n",
       "    <tr>\n",
       "      <td>3</td>\n",
       "      <td>2</td>\n",
       "      <td>1</td>\n",
       "      <td>4</td>\n",
       "      <td>0</td>\n",
       "      <td>A03</td>\n",
       "      <td>20190728</td>\n",
       "      <td>23:35</td>\n",
       "      <td>62794</td>\n",
       "      <td>NaN</td>\n",
       "      <td>레쓰비</td>\n",
       "      <td>61.0</td>\n",
       "      <td>911.0</td>\n",
       "      <td>DIRECT</td>\n",
       "      <td>unknown</td>\n",
       "    </tr>\n",
       "    <tr>\n",
       "      <td>4</td>\n",
       "      <td>2</td>\n",
       "      <td>1</td>\n",
       "      <td>5</td>\n",
       "      <td>0</td>\n",
       "      <td>A03</td>\n",
       "      <td>20190728</td>\n",
       "      <td>23:36</td>\n",
       "      <td>104074</td>\n",
       "      <td>NaN</td>\n",
       "      <td>레쓰비</td>\n",
       "      <td>61.0</td>\n",
       "      <td>911.0</td>\n",
       "      <td>DIRECT</td>\n",
       "      <td>unknown</td>\n",
       "    </tr>\n",
       "  </tbody>\n",
       "</table>\n",
       "</div>"
      ],
      "text/plain": [
       "   clnt_id  sess_id  hit_seq  action_type biz_unit   sess_dt hit_tm  \\\n",
       "0        2        1        1            0      A03  20190728  23:35   \n",
       "1        2        1        2            1      A03  20190728  23:35   \n",
       "2        2        1        3            2      A03  20190728  23:35   \n",
       "3        2        1        4            0      A03  20190728  23:35   \n",
       "4        2        1        5            0      A03  20190728  23:36   \n",
       "\n",
       "   hit_pss_tm  trans_id sech_kwd  tot_pag_view_ct  tot_sess_hr_v trfc_src  \\\n",
       "0       39532       NaN      레쓰비             61.0          911.0   DIRECT   \n",
       "1       47232       NaN      NaN             61.0          911.0   DIRECT   \n",
       "2       48087       NaN      NaN             61.0          911.0   DIRECT   \n",
       "3       62794       NaN      레쓰비             61.0          911.0   DIRECT   \n",
       "4      104074       NaN      레쓰비             61.0          911.0   DIRECT   \n",
       "\n",
       "  dvc_ctg_nm  \n",
       "0    unknown  \n",
       "1    unknown  \n",
       "2    unknown  \n",
       "3    unknown  \n",
       "4    unknown  "
      ]
     },
     "execution_count": 19,
     "metadata": {},
     "output_type": "execute_result"
    }
   ],
   "source": [
    "# trans_id 가 있는 세션만 가져옴\n",
    "df1_transO = df1_known.groupby(['clnt_id', 'sess_id']).apply(lambda x : det_(x))\n",
    "df1_transO.reset_index(drop = True, inplace = True) # 인데스 초기화\n",
    "df1_transO.head()"
   ]
  },
  {
   "cell_type": "markdown",
   "metadata": {},
   "source": [
    "## df2_df4\n",
    "- `df2_df4`데이터는 거래정보데이터(df2trade)에 상품 정보(df4item)를 추가한 데이터입니다.  \n",
    "(거래정보데이터에는 구매한 상품에 대한 정보가 담겨있지 않습니다)\n"
   ]
  },
  {
   "cell_type": "code",
   "execution_count": 20,
   "metadata": {
    "scrolled": true
   },
   "outputs": [
    {
     "data": {
      "text/html": [
       "<div>\n",
       "<style scoped>\n",
       "    .dataframe tbody tr th:only-of-type {\n",
       "        vertical-align: middle;\n",
       "    }\n",
       "\n",
       "    .dataframe tbody tr th {\n",
       "        vertical-align: top;\n",
       "    }\n",
       "\n",
       "    .dataframe thead th {\n",
       "        text-align: right;\n",
       "    }\n",
       "</style>\n",
       "<table border=\"1\" class=\"dataframe\">\n",
       "  <thead>\n",
       "    <tr style=\"text-align: right;\">\n",
       "      <th></th>\n",
       "      <th>clnt_id</th>\n",
       "      <th>trans_id</th>\n",
       "      <th>trans_seq</th>\n",
       "      <th>biz_unit</th>\n",
       "      <th>pd_c</th>\n",
       "      <th>de_dt</th>\n",
       "      <th>de_tm</th>\n",
       "      <th>buy_am</th>\n",
       "      <th>buy_ct</th>\n",
       "      <th>clac_nm1</th>\n",
       "      <th>clac_nm2</th>\n",
       "      <th>clac_nm3</th>\n",
       "    </tr>\n",
       "  </thead>\n",
       "  <tbody>\n",
       "    <tr>\n",
       "      <td>0</td>\n",
       "      <td>2</td>\n",
       "      <td>42449.0</td>\n",
       "      <td>1</td>\n",
       "      <td>A02</td>\n",
       "      <td>1015.0</td>\n",
       "      <td>20190704</td>\n",
       "      <td>15:34</td>\n",
       "      <td>46430</td>\n",
       "      <td>1</td>\n",
       "      <td>Men's Clothing</td>\n",
       "      <td>Men's Upper Bodywear / Tops</td>\n",
       "      <td>Men's T-shirts</td>\n",
       "    </tr>\n",
       "    <tr>\n",
       "      <td>1</td>\n",
       "      <td>2</td>\n",
       "      <td>62037.0</td>\n",
       "      <td>1</td>\n",
       "      <td>A03</td>\n",
       "      <td>92.0</td>\n",
       "      <td>20190729</td>\n",
       "      <td>23:47</td>\n",
       "      <td>36000</td>\n",
       "      <td>20</td>\n",
       "      <td>Beverages</td>\n",
       "      <td>Coffee Drinks</td>\n",
       "      <td>Coffee Drinks</td>\n",
       "    </tr>\n",
       "    <tr>\n",
       "      <td>2</td>\n",
       "      <td>2</td>\n",
       "      <td>64691.0</td>\n",
       "      <td>1</td>\n",
       "      <td>A03</td>\n",
       "      <td>186.0</td>\n",
       "      <td>20190731</td>\n",
       "      <td>21:25</td>\n",
       "      <td>3790</td>\n",
       "      <td>1</td>\n",
       "      <td>Chilled Foods</td>\n",
       "      <td>Fish Cakes and Crab Sticks</td>\n",
       "      <td>Crab Sticks</td>\n",
       "    </tr>\n",
       "    <tr>\n",
       "      <td>3</td>\n",
       "      <td>2</td>\n",
       "      <td>64691.0</td>\n",
       "      <td>2</td>\n",
       "      <td>A03</td>\n",
       "      <td>151.0</td>\n",
       "      <td>20190731</td>\n",
       "      <td>21:25</td>\n",
       "      <td>3990</td>\n",
       "      <td>1</td>\n",
       "      <td>Canned / Jarred Foods</td>\n",
       "      <td>Canned Agricultural Foods</td>\n",
       "      <td>Canned Vegetable Foods</td>\n",
       "    </tr>\n",
       "    <tr>\n",
       "      <td>4</td>\n",
       "      <td>2</td>\n",
       "      <td>64691.0</td>\n",
       "      <td>3</td>\n",
       "      <td>A03</td>\n",
       "      <td>351.0</td>\n",
       "      <td>20190731</td>\n",
       "      <td>21:25</td>\n",
       "      <td>4690</td>\n",
       "      <td>1</td>\n",
       "      <td>Dairy Products</td>\n",
       "      <td>Processed Dairy Products</td>\n",
       "      <td>Cream and Condensed milk</td>\n",
       "    </tr>\n",
       "  </tbody>\n",
       "</table>\n",
       "</div>"
      ],
      "text/plain": [
       "   clnt_id  trans_id  trans_seq biz_unit    pd_c     de_dt  de_tm  buy_am  \\\n",
       "0        2   42449.0          1      A02  1015.0  20190704  15:34   46430   \n",
       "1        2   62037.0          1      A03    92.0  20190729  23:47   36000   \n",
       "2        2   64691.0          1      A03   186.0  20190731  21:25    3790   \n",
       "3        2   64691.0          2      A03   151.0  20190731  21:25    3990   \n",
       "4        2   64691.0          3      A03   351.0  20190731  21:25    4690   \n",
       "\n",
       "   buy_ct               clac_nm1                     clac_nm2  \\\n",
       "0       1         Men's Clothing  Men's Upper Bodywear / Tops   \n",
       "1      20              Beverages                Coffee Drinks   \n",
       "2       1          Chilled Foods   Fish Cakes and Crab Sticks   \n",
       "3       1  Canned / Jarred Foods    Canned Agricultural Foods   \n",
       "4       1         Dairy Products     Processed Dairy Products   \n",
       "\n",
       "                   clac_nm3  \n",
       "0            Men's T-shirts  \n",
       "1             Coffee Drinks  \n",
       "2               Crab Sticks  \n",
       "3    Canned Vegetable Foods  \n",
       "4  Cream and Condensed milk  "
      ]
     },
     "execution_count": 20,
     "metadata": {},
     "output_type": "execute_result"
    }
   ],
   "source": [
    "df2_df4 = df2trade.merge(df4item, how = 'left') # 거래 데이터에 구매 상품에 대한 정보를 merging\n",
    "df2_df4.head()"
   ]
  },
  {
   "cell_type": "markdown",
   "metadata": {},
   "source": [
    "## for_asso\n",
    "- `df1_transO`와 `df2_df4`를 병합한 데이터입니다.\n",
    "- 장바구니 분석을 위한 데이터셋입니다.\n",
    "- 회원 고객의 온라인 행동 정보와 거래 정보, 구매 상품 정보가 담긴 데이터입니다."
   ]
  },
  {
   "cell_type": "code",
   "execution_count": 21,
   "metadata": {},
   "outputs": [
    {
     "data": {
      "text/html": [
       "<div>\n",
       "<style scoped>\n",
       "    .dataframe tbody tr th:only-of-type {\n",
       "        vertical-align: middle;\n",
       "    }\n",
       "\n",
       "    .dataframe tbody tr th {\n",
       "        vertical-align: top;\n",
       "    }\n",
       "\n",
       "    .dataframe thead th {\n",
       "        text-align: right;\n",
       "    }\n",
       "</style>\n",
       "<table border=\"1\" class=\"dataframe\">\n",
       "  <thead>\n",
       "    <tr style=\"text-align: right;\">\n",
       "      <th></th>\n",
       "      <th>clnt_id</th>\n",
       "      <th>sess_id</th>\n",
       "      <th>hit_seq</th>\n",
       "      <th>action_type</th>\n",
       "      <th>biz_unit_x</th>\n",
       "      <th>sess_dt</th>\n",
       "      <th>hit_tm</th>\n",
       "      <th>hit_pss_tm</th>\n",
       "      <th>trans_id</th>\n",
       "      <th>sech_kwd</th>\n",
       "      <th>tot_pag_view_ct</th>\n",
       "      <th>tot_sess_hr_v</th>\n",
       "      <th>trfc_src</th>\n",
       "      <th>dvc_ctg_nm</th>\n",
       "      <th>trans_seq</th>\n",
       "      <th>biz_unit_y</th>\n",
       "      <th>pd_c</th>\n",
       "      <th>de_dt</th>\n",
       "      <th>de_tm</th>\n",
       "      <th>buy_am</th>\n",
       "      <th>buy_ct</th>\n",
       "      <th>clac_nm1</th>\n",
       "      <th>clac_nm2</th>\n",
       "      <th>clac_nm3</th>\n",
       "    </tr>\n",
       "  </thead>\n",
       "  <tbody>\n",
       "    <tr>\n",
       "      <td>0</td>\n",
       "      <td>2</td>\n",
       "      <td>1</td>\n",
       "      <td>37</td>\n",
       "      <td>6</td>\n",
       "      <td>A03</td>\n",
       "      <td>20190728</td>\n",
       "      <td>23:47</td>\n",
       "      <td>791905</td>\n",
       "      <td>62037.0</td>\n",
       "      <td>NaN</td>\n",
       "      <td>61.0</td>\n",
       "      <td>911.0</td>\n",
       "      <td>DIRECT</td>\n",
       "      <td>unknown</td>\n",
       "      <td>1</td>\n",
       "      <td>A03</td>\n",
       "      <td>92.0</td>\n",
       "      <td>20190729</td>\n",
       "      <td>23:47</td>\n",
       "      <td>36000</td>\n",
       "      <td>20</td>\n",
       "      <td>Beverages</td>\n",
       "      <td>Coffee Drinks</td>\n",
       "      <td>Coffee Drinks</td>\n",
       "    </tr>\n",
       "    <tr>\n",
       "      <td>1</td>\n",
       "      <td>2</td>\n",
       "      <td>8</td>\n",
       "      <td>68</td>\n",
       "      <td>6</td>\n",
       "      <td>A03</td>\n",
       "      <td>20190731</td>\n",
       "      <td>21:25</td>\n",
       "      <td>3251794</td>\n",
       "      <td>64691.0</td>\n",
       "      <td>NaN</td>\n",
       "      <td>85.0</td>\n",
       "      <td>3256.0</td>\n",
       "      <td>DIRECT</td>\n",
       "      <td>unknown</td>\n",
       "      <td>1</td>\n",
       "      <td>A03</td>\n",
       "      <td>186.0</td>\n",
       "      <td>20190731</td>\n",
       "      <td>21:25</td>\n",
       "      <td>3790</td>\n",
       "      <td>1</td>\n",
       "      <td>Chilled Foods</td>\n",
       "      <td>Fish Cakes and Crab Sticks</td>\n",
       "      <td>Crab Sticks</td>\n",
       "    </tr>\n",
       "    <tr>\n",
       "      <td>2</td>\n",
       "      <td>2</td>\n",
       "      <td>8</td>\n",
       "      <td>68</td>\n",
       "      <td>6</td>\n",
       "      <td>A03</td>\n",
       "      <td>20190731</td>\n",
       "      <td>21:25</td>\n",
       "      <td>3251794</td>\n",
       "      <td>64691.0</td>\n",
       "      <td>NaN</td>\n",
       "      <td>85.0</td>\n",
       "      <td>3256.0</td>\n",
       "      <td>DIRECT</td>\n",
       "      <td>unknown</td>\n",
       "      <td>2</td>\n",
       "      <td>A03</td>\n",
       "      <td>151.0</td>\n",
       "      <td>20190731</td>\n",
       "      <td>21:25</td>\n",
       "      <td>3990</td>\n",
       "      <td>1</td>\n",
       "      <td>Canned / Jarred Foods</td>\n",
       "      <td>Canned Agricultural Foods</td>\n",
       "      <td>Canned Vegetable Foods</td>\n",
       "    </tr>\n",
       "    <tr>\n",
       "      <td>3</td>\n",
       "      <td>2</td>\n",
       "      <td>8</td>\n",
       "      <td>68</td>\n",
       "      <td>6</td>\n",
       "      <td>A03</td>\n",
       "      <td>20190731</td>\n",
       "      <td>21:25</td>\n",
       "      <td>3251794</td>\n",
       "      <td>64691.0</td>\n",
       "      <td>NaN</td>\n",
       "      <td>85.0</td>\n",
       "      <td>3256.0</td>\n",
       "      <td>DIRECT</td>\n",
       "      <td>unknown</td>\n",
       "      <td>3</td>\n",
       "      <td>A03</td>\n",
       "      <td>351.0</td>\n",
       "      <td>20190731</td>\n",
       "      <td>21:25</td>\n",
       "      <td>4690</td>\n",
       "      <td>1</td>\n",
       "      <td>Dairy Products</td>\n",
       "      <td>Processed Dairy Products</td>\n",
       "      <td>Cream and Condensed milk</td>\n",
       "    </tr>\n",
       "    <tr>\n",
       "      <td>4</td>\n",
       "      <td>2</td>\n",
       "      <td>8</td>\n",
       "      <td>68</td>\n",
       "      <td>6</td>\n",
       "      <td>A03</td>\n",
       "      <td>20190731</td>\n",
       "      <td>21:25</td>\n",
       "      <td>3251794</td>\n",
       "      <td>64691.0</td>\n",
       "      <td>NaN</td>\n",
       "      <td>85.0</td>\n",
       "      <td>3256.0</td>\n",
       "      <td>DIRECT</td>\n",
       "      <td>unknown</td>\n",
       "      <td>4</td>\n",
       "      <td>A03</td>\n",
       "      <td>189.0</td>\n",
       "      <td>20190731</td>\n",
       "      <td>21:25</td>\n",
       "      <td>4290</td>\n",
       "      <td>1</td>\n",
       "      <td>Chilled Foods</td>\n",
       "      <td>Fish Cakes and Crab Sticks</td>\n",
       "      <td>Fried Tofu</td>\n",
       "    </tr>\n",
       "  </tbody>\n",
       "</table>\n",
       "</div>"
      ],
      "text/plain": [
       "   clnt_id  sess_id  hit_seq  action_type biz_unit_x   sess_dt hit_tm  \\\n",
       "0        2        1       37            6        A03  20190728  23:47   \n",
       "1        2        8       68            6        A03  20190731  21:25   \n",
       "2        2        8       68            6        A03  20190731  21:25   \n",
       "3        2        8       68            6        A03  20190731  21:25   \n",
       "4        2        8       68            6        A03  20190731  21:25   \n",
       "\n",
       "   hit_pss_tm  trans_id sech_kwd  tot_pag_view_ct  tot_sess_hr_v trfc_src  \\\n",
       "0      791905   62037.0      NaN             61.0          911.0   DIRECT   \n",
       "1     3251794   64691.0      NaN             85.0         3256.0   DIRECT   \n",
       "2     3251794   64691.0      NaN             85.0         3256.0   DIRECT   \n",
       "3     3251794   64691.0      NaN             85.0         3256.0   DIRECT   \n",
       "4     3251794   64691.0      NaN             85.0         3256.0   DIRECT   \n",
       "\n",
       "  dvc_ctg_nm  trans_seq biz_unit_y   pd_c     de_dt  de_tm  buy_am  buy_ct  \\\n",
       "0    unknown          1        A03   92.0  20190729  23:47   36000      20   \n",
       "1    unknown          1        A03  186.0  20190731  21:25    3790       1   \n",
       "2    unknown          2        A03  151.0  20190731  21:25    3990       1   \n",
       "3    unknown          3        A03  351.0  20190731  21:25    4690       1   \n",
       "4    unknown          4        A03  189.0  20190731  21:25    4290       1   \n",
       "\n",
       "                clac_nm1                    clac_nm2                  clac_nm3  \n",
       "0              Beverages               Coffee Drinks             Coffee Drinks  \n",
       "1          Chilled Foods  Fish Cakes and Crab Sticks               Crab Sticks  \n",
       "2  Canned / Jarred Foods   Canned Agricultural Foods    Canned Vegetable Foods  \n",
       "3         Dairy Products    Processed Dairy Products  Cream and Condensed milk  \n",
       "4          Chilled Foods  Fish Cakes and Crab Sticks                Fried Tofu  "
      ]
     },
     "execution_count": 21,
     "metadata": {},
     "output_type": "execute_result"
    }
   ],
   "source": [
    "for_asso = df1_transO.merge(df2_df4, how = 'inner', on = ['clnt_id', 'trans_id'])\n",
    "for_asso.head()"
   ]
  },
  {
   "cell_type": "markdown",
   "metadata": {},
   "source": [
    "# 장바구니 분석(Market Basket Analysis)\n",
    "- Association Rules로도 부릅니다.\n",
    "- 장바구니 분석에는 세 가지 수치적 지표가 활용됩니다.\n",
    "    - `지지도(Support)`: `(상품 A와 B가 동시에 포함된 사례 수) / (전체 사례 수)`, P(A∩B)\n",
    "    - `신뢰도(Confidence)`: `(상품 A와 B가 동시에 포함된 사례 수) / (상품 A가 포함된 사례 수)`, P(A∩B) / P(A)\n",
    "    - `향상도(Lift)`: `상품 A가 없을 때 상품 B가 있을 확률`과 `상품 A가 있을 때 상품 B가 있을 확률의 비율`, P(A∩B) / P(A)*P(B)  = P (B|A) / P (B)\n",
    "        - 상품 간 상호 관계가 없으면 1, 1보다 크거나 작으면 random chance가 아닌 것으로 해석\n",
    "- *\\\"어떤 상품을 살 때 이것도 같이 사더라\\\"*의 조건부 확률 개념에 착안하여 `신뢰도(Confidence)`를 기반으로 분석을 진행합니다.\n",
    "\n",
    "- reference\n",
    "    - https://brunch.co.kr/@rapaellee/9\n",
    "    - https://pyopyo03.tistory.com/14"
   ]
  },
  {
   "cell_type": "code",
   "execution_count": 22,
   "metadata": {},
   "outputs": [],
   "source": [
    "# 세션 내 구매 대분류 항목 리스트 반환 함수\n",
    "def buywhat_clac1(x):\n",
    "    df = x\n",
    "    idx = df[~df['trans_id'].isnull()].index.to_list()\n",
    "    emp = []\n",
    "    for i in idx:\n",
    "        emp.append(df.loc[idx, 'clac_nm1'].to_list())\n",
    "    return flatten(emp)\n",
    "\n",
    "# 여러 겹의 리스트를 한 겹의 리스트로 반환하는 함수\n",
    "def flatten(n):\n",
    "    org =[]\n",
    "    for i in n :\n",
    "        if (isinstance(i,list)):\n",
    "            org += flatten(i)\n",
    "        else:\n",
    "            org.append(i)\n",
    "    return org"
   ]
  },
  {
   "cell_type": "code",
   "execution_count": 23,
   "metadata": {},
   "outputs": [],
   "source": [
    "# 세션별 구매물품 대분류 및 소분류\n",
    "df_clac1_list = for_asso.groupby(['clnt_id', 'sess_id']).apply(lambda x: buywhat_clac1(x)).to_frame('구매물품 clac1')"
   ]
  },
  {
   "cell_type": "code",
   "execution_count": 24,
   "metadata": {},
   "outputs": [],
   "source": [
    "for_asso2 = for_asso[['clnt_id','sess_id']]\n",
    "for_asso2 = for_asso2.merge(df_clac1_list.reset_index(), how = 'left', on = ['clnt_id', 'sess_id'])\n",
    "for_asso2 = for_asso2.groupby(['clnt_id', 'sess_id'], as_index = False).first()"
   ]
  },
  {
   "cell_type": "code",
   "execution_count": 29,
   "metadata": {},
   "outputs": [
    {
     "name": "stdout",
     "output_type": "stream",
     "text": [
      "20766\n"
     ]
    }
   ],
   "source": [
    "clac1 = for_asso2['구매물품 clac1'].to_list()\n",
    "\n",
    "clac1_copy = clac1[:]\n",
    "clac1_refined =  []\n",
    "\n",
    "for idx in range(len(clac1_copy)):\n",
    "    temp = []\n",
    "    for j in clac1_copy[idx]:\n",
    "        if isinstance(j, float)==False:\n",
    "            temp.append(j)\n",
    "    clac1_refined.append(temp)\n",
    "\n",
    "print(len(clac1_refined))"
   ]
  },
  {
   "cell_type": "code",
   "execution_count": 30,
   "metadata": {},
   "outputs": [
    {
     "data": {
      "text/plain": [
       "(20766, 56)"
      ]
     },
     "execution_count": 30,
     "metadata": {},
     "output_type": "execute_result"
    }
   ],
   "source": [
    "te_clac1 = TransactionEncoder()\n",
    "te_ary_clac1 = te_clac1.fit(clac1_refined).transform(clac1_refined)\n",
    "df = pd.DataFrame(te_ary_clac1, columns=te_clac1.columns_) #위에서 나온걸 보기 좋게 데이터프레임으로 변경\n",
    "df.shape"
   ]
  },
  {
   "cell_type": "code",
   "execution_count": 31,
   "metadata": {},
   "outputs": [
    {
     "data": {
      "text/html": [
       "<div>\n",
       "<style scoped>\n",
       "    .dataframe tbody tr th:only-of-type {\n",
       "        vertical-align: middle;\n",
       "    }\n",
       "\n",
       "    .dataframe tbody tr th {\n",
       "        vertical-align: top;\n",
       "    }\n",
       "\n",
       "    .dataframe thead th {\n",
       "        text-align: right;\n",
       "    }\n",
       "</style>\n",
       "<table border=\"1\" class=\"dataframe\">\n",
       "  <thead>\n",
       "    <tr style=\"text-align: right;\">\n",
       "      <th></th>\n",
       "      <th>support</th>\n",
       "    </tr>\n",
       "  </thead>\n",
       "  <tbody>\n",
       "    <tr>\n",
       "      <td>count</td>\n",
       "      <td>1493.000000</td>\n",
       "    </tr>\n",
       "    <tr>\n",
       "      <td>mean</td>\n",
       "      <td>0.020636</td>\n",
       "    </tr>\n",
       "    <tr>\n",
       "      <td>std</td>\n",
       "      <td>0.031973</td>\n",
       "    </tr>\n",
       "    <tr>\n",
       "      <td>min</td>\n",
       "      <td>0.005008</td>\n",
       "    </tr>\n",
       "    <tr>\n",
       "      <td>25%</td>\n",
       "      <td>0.006742</td>\n",
       "    </tr>\n",
       "    <tr>\n",
       "      <td>50%</td>\n",
       "      <td>0.010209</td>\n",
       "    </tr>\n",
       "    <tr>\n",
       "      <td>75%</td>\n",
       "      <td>0.019888</td>\n",
       "    </tr>\n",
       "    <tr>\n",
       "      <td>max</td>\n",
       "      <td>0.356544</td>\n",
       "    </tr>\n",
       "  </tbody>\n",
       "</table>\n",
       "</div>"
      ],
      "text/plain": [
       "           support\n",
       "count  1493.000000\n",
       "mean      0.020636\n",
       "std       0.031973\n",
       "min       0.005008\n",
       "25%       0.006742\n",
       "50%       0.010209\n",
       "75%       0.019888\n",
       "max       0.356544"
      ]
     },
     "execution_count": 31,
     "metadata": {},
     "output_type": "execute_result"
    }
   ],
   "source": [
    "frequent_itemsets_clac1 = apriori(df, min_support=0.005, use_colnames=True) # min_support : 최소 지지도\n",
    "frequent_itemsets_clac1.describe()"
   ]
  },
  {
   "cell_type": "code",
   "execution_count": 32,
   "metadata": {
    "scrolled": true
   },
   "outputs": [],
   "source": [
    "asso_clac_1 = association_rules(frequent_itemsets_clac1, metric=\"confidence\", min_threshold=0.1).sort_values(by = ['antecedents', 'consequents', 'confidence'])\n",
    "asso_confidence = asso_clac_1[['antecedents', 'consequents', 'confidence']].sort_values(by = 'confidence', ascending = False)"
   ]
  },
  {
   "cell_type": "markdown",
   "metadata": {},
   "source": [
    "`신뢰도(Confidence)`\n",
    "- 아래의 1918 인덱스의 샘플의 경우, `육류와 과일`을 구매하면, `야채`를 함께 구매할 확률이 약 63%에 이른다고 분석할 수 있습니다.\n",
    "- 이러한 결과가 나온 것을 보고 데이터의 몇몇 고객을 살펴보니, 실제로 이러한 경우가 다수 발견되었습니다."
   ]
  },
  {
   "cell_type": "code",
   "execution_count": 45,
   "metadata": {
    "scrolled": false
   },
   "outputs": [
    {
     "data": {
      "text/html": [
       "<div>\n",
       "<style scoped>\n",
       "    .dataframe tbody tr th:only-of-type {\n",
       "        vertical-align: middle;\n",
       "    }\n",
       "\n",
       "    .dataframe tbody tr th {\n",
       "        vertical-align: top;\n",
       "    }\n",
       "\n",
       "    .dataframe thead th {\n",
       "        text-align: right;\n",
       "    }\n",
       "</style>\n",
       "<table border=\"1\" class=\"dataframe\">\n",
       "  <thead>\n",
       "    <tr style=\"text-align: right;\">\n",
       "      <th></th>\n",
       "      <th>antecedents</th>\n",
       "      <th>consequents</th>\n",
       "      <th>confidence</th>\n",
       "    </tr>\n",
       "  </thead>\n",
       "  <tbody>\n",
       "    <tr>\n",
       "      <td>1918</td>\n",
       "      <td>(Meats, Spices / Seasonings)</td>\n",
       "      <td>(Vegetables)</td>\n",
       "      <td>0.639153</td>\n",
       "    </tr>\n",
       "    <tr>\n",
       "      <td>4961</td>\n",
       "      <td>(Chilled Foods, Grains, Vegetables)</td>\n",
       "      <td>(Meats)</td>\n",
       "      <td>0.639053</td>\n",
       "    </tr>\n",
       "    <tr>\n",
       "      <td>5340</td>\n",
       "      <td>(Dried Sea Foods, Dairy Products, Spices / Sea...</td>\n",
       "      <td>(Meats)</td>\n",
       "      <td>0.639024</td>\n",
       "    </tr>\n",
       "    <tr>\n",
       "      <td>1174</td>\n",
       "      <td>(Coffee / Tea, Spices / Seasonings)</td>\n",
       "      <td>(Substitute Foods)</td>\n",
       "      <td>0.638498</td>\n",
       "    </tr>\n",
       "    <tr>\n",
       "      <td>6082</td>\n",
       "      <td>(Fruits, Dried Sea Foods, Snack Foods)</td>\n",
       "      <td>(Vegetables)</td>\n",
       "      <td>0.637755</td>\n",
       "    </tr>\n",
       "    <tr>\n",
       "      <td>1791</td>\n",
       "      <td>(Meats, Fruits)</td>\n",
       "      <td>(Vegetables)</td>\n",
       "      <td>0.637270</td>\n",
       "    </tr>\n",
       "    <tr>\n",
       "      <td>10507</td>\n",
       "      <td>(Chilled Foods, Meats, Spices / Seasonings, Sn...</td>\n",
       "      <td>(Vegetables)</td>\n",
       "      <td>0.637168</td>\n",
       "    </tr>\n",
       "    <tr>\n",
       "      <td>10550</td>\n",
       "      <td>(Chilled Foods, Meats, Spices / Seasonings, Su...</td>\n",
       "      <td>(Vegetables)</td>\n",
       "      <td>0.636917</td>\n",
       "    </tr>\n",
       "    <tr>\n",
       "      <td>3670</td>\n",
       "      <td>(Dairy Products, Vegetables, Canned / Jarred F...</td>\n",
       "      <td>(Meats)</td>\n",
       "      <td>0.636364</td>\n",
       "    </tr>\n",
       "    <tr>\n",
       "      <td>8469</td>\n",
       "      <td>(Chilled Foods, Meats, Fruits, Canned / Jarred...</td>\n",
       "      <td>(Dairy Products)</td>\n",
       "      <td>0.636364</td>\n",
       "    </tr>\n",
       "  </tbody>\n",
       "</table>\n",
       "</div>"
      ],
      "text/plain": [
       "                                             antecedents         consequents  \\\n",
       "1918                        (Meats, Spices / Seasonings)        (Vegetables)   \n",
       "4961                 (Chilled Foods, Grains, Vegetables)             (Meats)   \n",
       "5340   (Dried Sea Foods, Dairy Products, Spices / Sea...             (Meats)   \n",
       "1174                 (Coffee / Tea, Spices / Seasonings)  (Substitute Foods)   \n",
       "6082              (Fruits, Dried Sea Foods, Snack Foods)        (Vegetables)   \n",
       "1791                                     (Meats, Fruits)        (Vegetables)   \n",
       "10507  (Chilled Foods, Meats, Spices / Seasonings, Sn...        (Vegetables)   \n",
       "10550  (Chilled Foods, Meats, Spices / Seasonings, Su...        (Vegetables)   \n",
       "3670   (Dairy Products, Vegetables, Canned / Jarred F...             (Meats)   \n",
       "8469   (Chilled Foods, Meats, Fruits, Canned / Jarred...    (Dairy Products)   \n",
       "\n",
       "       confidence  \n",
       "1918     0.639153  \n",
       "4961     0.639053  \n",
       "5340     0.639024  \n",
       "1174     0.638498  \n",
       "6082     0.637755  \n",
       "1791     0.637270  \n",
       "10507    0.637168  \n",
       "10550    0.636917  \n",
       "3670     0.636364  \n",
       "8469     0.636364  "
      ]
     },
     "execution_count": 45,
     "metadata": {},
     "output_type": "execute_result"
    }
   ],
   "source": [
    "asso_confidence.head(200).tail(100).head(10)"
   ]
  },
  {
   "cell_type": "markdown",
   "metadata": {},
   "source": [
    "- clnt_id가 1176인 고객"
   ]
  },
  {
   "cell_type": "code",
   "execution_count": 38,
   "metadata": {},
   "outputs": [
    {
     "data": {
      "text/plain": [
       "clnt_id                                                    1176\n",
       "sess_id                                                      17\n",
       "구매물품 clac1    [Vegetables, Chilled Foods, Dairy Products, Ch...\n",
       "Name: 203, dtype: object"
      ]
     },
     "execution_count": 38,
     "metadata": {},
     "output_type": "execute_result"
    }
   ],
   "source": [
    "for_asso2.loc[203, :]"
   ]
  },
  {
   "cell_type": "code",
   "execution_count": 48,
   "metadata": {},
   "outputs": [
    {
     "name": "stdout",
     "output_type": "stream",
     "text": [
      "True\n",
      "True\n"
     ]
    }
   ],
   "source": [
    "print('Meats' in for_asso2.loc[203, :][2] and 'Fruits' in for_asso2.loc[203, :][2])\n",
    "print('Vegetables' in for_asso2.loc[203, :][2])"
   ]
  },
  {
   "cell_type": "markdown",
   "metadata": {},
   "source": [
    "- 49번의 고객ID의 경우 야채와 고기를 함께 사는 경향을 보입니다.\n",
    "- 40번 세션에서 24개의 야채류, 16개의 육류, 8개의 과일류를 구매한 것으로 관찰됩니다."
   ]
  },
  {
   "cell_type": "code",
   "execution_count": 53,
   "metadata": {
    "scrolled": false
   },
   "outputs": [
    {
     "data": {
      "text/plain": [
       "Vegetables          24\n",
       "Meats               16\n",
       "Dairy Products       8\n",
       "Fruits               8\n",
       "Substitute Foods     8\n",
       "dtype: int64"
      ]
     },
     "metadata": {},
     "output_type": "display_data"
    }
   ],
   "source": [
    "buylist_49 = for_asso2[(for_asso2['clnt_id'] == 49) & (for_asso2['sess_id'] == 40)]['구매물품 clac1'].to_list()\n",
    "display(pd.Series(flatten(buylist_49)).value_counts())\n",
    "del buylist_49"
   ]
  },
  {
   "cell_type": "markdown",
   "metadata": {},
   "source": [
    "- 880번의 고객ID의 경우 야채와 해산물을 함께 사는 경향을 보입니다.\n",
    "- 7번 세션에서 48개의 야채류, 36개의 육류, 12개의 과일류, 12개의 해산물을 구매한 것으로 관찰됩니다."
   ]
  },
  {
   "cell_type": "code",
   "execution_count": 58,
   "metadata": {
    "scrolled": false
   },
   "outputs": [
    {
     "data": {
      "text/plain": [
       "Vegetables          48\n",
       "Meats               36\n",
       "Chilled Foods       24\n",
       "Substitute Foods    12\n",
       "Fruits              12\n",
       "Sea Foods           12\n",
       "dtype: int64"
      ]
     },
     "metadata": {},
     "output_type": "display_data"
    }
   ],
   "source": [
    "buylist_880 = for_asso2[(for_asso2['clnt_id'] == 880) & (for_asso2['sess_id'] == 7)]['구매물품 clac1'].to_list()\n",
    "display(pd.Series(flatten(buylist_880)).value_counts())\n",
    "del buylist_880"
   ]
  },
  {
   "cell_type": "markdown",
   "metadata": {},
   "source": [
    "# 고객 유형 X 구매 품목 간의  관계\n",
    "- `고객 유형(clnt_type)`과 `구매 품목`간에 관계성을 탐색합니다."
   ]
  },
  {
   "cell_type": "code",
   "execution_count": 59,
   "metadata": {},
   "outputs": [],
   "source": [
    "known = df1online[df1online['clnt_id'].isin(df3_known['clnt_id'])].reset_index(drop=True)\n",
    "known = known.merge(df3_known, how='left', on='clnt_id')"
   ]
  },
  {
   "cell_type": "code",
   "execution_count": 61,
   "metadata": {},
   "outputs": [],
   "source": [
    "female = sns.color_palette('Reds',5)\n",
    "male =  sns.color_palette('Blues',5)\n",
    "palette = {0: female[0], 5: male[0],\n",
    "           1: female[1], 6: male[1],\n",
    "           2: female[2], 7: male[2],\n",
    "           3: female[3], 8: male[3],\n",
    "           4: female[4], 9: male[4]}"
   ]
  },
  {
   "cell_type": "code",
   "execution_count": 63,
   "metadata": {},
   "outputs": [
    {
     "data": {
      "image/png": "[encoded data removed]",
      "text/plain": [
       "<Figure size 1188x324 with 1 Axes>"
      ]
     },
     "metadata": {},
     "output_type": "display_data"
    }
   ],
   "source": [
    "purchase = known[known['action_type']==6]\n",
    "purchase_trade = purchase.merge(df2trade, how='left', on=['clnt_id','biz_unit','trans_id'])\n",
    "purchase_trade_item = purchase_trade.merge(df4item, how='left', on='pd_c')\n",
    "\n",
    "contain_nm1 = purchase_trade_item['clac_nm1'].value_counts().to_frame('count').reset_index()\n",
    "nm1s = contain_nm1.head(10)['index'].tolist()\n",
    "\n",
    "clnt_type_nm1 = purchase_trade_item.groupby(['clnt_type','clac_nm1']).size().to_frame('count').reset_index()\n",
    "type_total = clnt_type_nm1.groupby('clnt_type')['count'].sum().to_frame('total')\n",
    "clnt_type_nm1 = clnt_type_nm1.merge(type_total, how='left', on='clnt_type')\n",
    "clnt_type_nm1['ratio'] = clnt_type_nm1['count']/clnt_type_nm1['total']\n",
    "\n",
    "sample_1 = clnt_type_nm1[clnt_type_nm1['clac_nm1'].isin(nm1s)]\n",
    "\n",
    "fig, ax = plt.subplots(figsize=(16.5,4.5))\n",
    "sns.stripplot(data=sample_1, x='ratio', y='clac_nm1', hue='clnt_type', palette=palette, size = 7)\n",
    "\n",
    "handles, labels = ax.get_legend_handles_labels()\n",
    "type_labels=['F20','F30','F40','F50','F60','M20','M30','M40','M50','M60']\n",
    "ax.legend(handles, type_labels, loc='upper right')\n",
    "\n",
    "plt.title('고객 유형 X 구매 품목 대분류 비율')\n",
    "plt.xlabel('비율'); plt.ylabel('대분류')\n",
    "plt.xlim(0.03,0.185)\n",
    "\n",
    "plt.tight_layout()\n",
    "plt.savefig('./image/고객 유형 X 구매 품목 대분류 비율.png', dpi=300)\n",
    "plt.show()"
   ]
  },
  {
   "cell_type": "markdown",
   "metadata": {},
   "source": [
    "- 성별과 연령대에 따라 구매하는 상품이 다르게 나타남을 관찰할 수 있습니다."
   ]
  },
  {
   "cell_type": "markdown",
   "metadata": {},
   "source": [
    "# 키워드 X 구매 품목\n",
    "\n",
    "키워드와 구매 품목의 종류가 너무 많기 때문에 기록된 수가 상위 10개의 키워드와 구매품목으로만 살펴봅니다."
   ]
  },
  {
   "cell_type": "code",
   "execution_count": 66,
   "metadata": {},
   "outputs": [
    {
     "data": {
      "image/png": "[encoded data removed]",
      "text/plain": [
       "<Figure size 1080x324 with 1 Axes>"
      ]
     },
     "metadata": {},
     "output_type": "display_data"
    }
   ],
   "source": [
    "# contain_kwd = df1online['sech_kwd'].value_counts().to_frame('count').reset_index()\n",
    "# kwds = contain_kwd.head(10)['index'].tolist()\n",
    "\n",
    "# known_trade = known.merge(df2trade, how='left', on=['clnt_id','biz_unit','trans_id'])\n",
    "# known_trade_item = known_trade.merge(df4item, how='left', on='pd_c')\n",
    "\n",
    "# contain_nm1 = known_trade_item['clac_nm1'].value_counts().to_frame('count').reset_index()\n",
    "# nm1s = contain_nm1.head(10)['index'].tolist()\n",
    "\n",
    "# sess_kwd = known_trade_item.groupby(['clnt_id','sess_id'])['sech_kwd'].unique().to_frame().reset_index()\n",
    "# sess_clac_nm1 = known_trade_item.groupby(['clnt_id','sess_id'])['clac_nm1'].unique().to_frame().reset_index()\n",
    "\n",
    "# kwd_clac_nm1 = sess_kwd.copy()\n",
    "# kwd_clac_nm1['clac_nm1'] = sess_clac_nm1['clac_nm1']\n",
    "# kwd_clac_nm1 = kwd_clac_nm1[['sech_kwd','clac_nm1']]\n",
    "\n",
    "# kwd, nm1 = [[],[]]\n",
    "# for i in tq(range(len(kwd_clac_nm1))):\n",
    "#     for j in kwd_clac_nm1.iloc[i,0]:\n",
    "#         for k in kwd_clac_nm1.iloc[i,1]:\n",
    "#             kwd.append(j)\n",
    "#             nm1.append(k)\n",
    "# output = pd.DataFrame({'kwd':kwd, 'nm1':nm1})\n",
    "# output = output.dropna().reset_index(drop=True)\n",
    "\n",
    "# kwd_nm1 = output.groupby(['kwd','nm1']).size().to_frame('count').reset_index()\n",
    "# nm1_total = kwd_nm1.groupby('nm1')['count'].sum().to_frame('total').reset_index()\n",
    "# kwd_nm1_total = kwd_nm1.merge(nm1_total, how='left', on='nm1')\n",
    "# kwd_nm1_total['ratio'] = kwd_nm1_total['count']/kwd_nm1_total['total']\n",
    "\n",
    "# sample_2 = kwd_nm1_total[(kwd_nm1_total['kwd'].isin(kwds))&(kwd_nm1_total['nm1'].isin(nm1s))]\n",
    "\n",
    "fig, ax = plt.subplots(figsize=(15,4.5))\n",
    "sns.stripplot(data=sample_2, x='ratio', y='nm1', hue='kwd', size = 7)\n",
    "plt.legend('')\n",
    "plt.xlim(0,0.03)\n",
    "plt.title('키워드 X 구매 품목 간의 관계(상위 10개 기준)')\n",
    "plt.xlabel('비율'); plt.ylabel('대분류')\n",
    "plt.tight_layout()\n",
    "\n",
    "plt.savefig('./image/키워드 X 구매 품목 간의 관계.png', dpi=300)\n",
    "plt.show()"
   ]
  },
  {
   "cell_type": "markdown",
   "metadata": {},
   "source": [
    "* 고객 검색 키워드와 구매 품목에도 몇몇 구별점이 발견되었습니다."
   ]
  },
  {
   "cell_type": "markdown",
   "metadata": {},
   "source": [
    "# 페이지 서핑 속도 X 구매 품목"
   ]
  },
  {
   "cell_type": "code",
   "execution_count": 67,
   "metadata": {},
   "outputs": [
    {
     "data": {
      "image/png": "[encoded data removed]",
      "text/plain": [
       "<Figure size 1080x324 with 1 Axes>"
      ]
     },
     "metadata": {},
     "output_type": "display_data"
    }
   ],
   "source": [
    "# purchase = known[known['action_type']==6]\n",
    "# purchase_trade = purchase.merge(df2trade, how='left', on=['clnt_id','biz_unit','trans_id'])\n",
    "# purchase_trade_item = purchase_trade.merge(df4item, how='left', on='pd_c')\n",
    "\n",
    "# purchase_trade_item['pv_hr'] = purchase_trade_item['tot_pag_view_ct']/purchase_trade_item['tot_sess_hr_v']\n",
    "\n",
    "# contain_nm1 = purchase_trade_item['clac_nm1'].value_counts().to_frame('count').reset_index()\n",
    "# nm1s = contain_nm1.head(10)['index'].tolist()\n",
    "\n",
    "# pv_hr_nm1 = purchase_trade_item.groupby('clac_nm1')['pv_hr'].median().to_frame('pv_hr').reset_index()\n",
    "# sample_3 = pv_hr_nm1[pv_hr_nm1['clac_nm1'].isin(nm1s)]\n",
    "\n",
    "fig, ax = plt.subplots(figsize=(15,4.5))\n",
    "sns.stripplot(data=sample_3, x='pv_hr', y='clac_nm1', size = 9)\n",
    "\n",
    "plt.title('페이지 서핑 속도 X 구매 품목 간의 관계(상위 10개 기준)')\n",
    "plt.xlim(0.0275,0.03)\n",
    "plt.xlabel('페이지 서핑 속도'); plt.ylabel('대분류')\n",
    "plt.tight_layout()\n",
    "\n",
    "plt.savefig('./image/페이지 서핑 속도 X 구매 품목 간의 관계.png', dpi=300)\n",
    "plt.show()"
   ]
  },
  {
   "cell_type": "markdown",
   "metadata": {},
   "source": [
    "* 구매한 상품에 따라 쇼핑 동안 페이지 서핑 속도가 다르게 관찰되었습니다."
   ]
  }
 ],
 "metadata": {
  "kernelspec": {
   "display_name": "Python 3",
   "language": "python",
   "name": "python3"
  },
  "language_info": {
   "codemirror_mode": {
    "name": "ipython",
    "version": 3
   },
   "file_extension": ".py",
   "mimetype": "text/x-python",
   "name": "python",
   "nbconvert_exporter": "python",
   "pygments_lexer": "ipython3",
   "version": "3.7.4"
  },
  "toc": {
   "base_numbering": 1,
   "nav_menu": {},
   "number_sections": true,
   "sideBar": true,
   "skip_h1_title": false,
   "title_cell": "Table of Contents",
   "title_sidebar": "Contents",
   "toc_cell": false,
   "toc_position": {
    "height": "calc(100% - 180px)",
    "left": "10px",
    "top": "150px",
    "width": "165px"
   },
   "toc_section_display": true,
   "toc_window_display": false
  },
  "varInspector": {
   "cols": {
    "lenName": 16,
    "lenType": 16,
    "lenVar": 40
   },
   "kernels_config": {
    "python": {
     "delete_cmd_postfix": "",
     "delete_cmd_prefix": "del ",
     "library": "var_list.py",
     "varRefreshCmd": "print(var_dic_list())"
    },
    "r": {
     "delete_cmd_postfix": ") ",
     "delete_cmd_prefix": "rm(",
     "library": "var_list.r",
     "varRefreshCmd": "cat(var_dic_list()) "
    }
   },
   "types_to_exclude": [
    "module",
    "function",
    "builtin_function_or_method",
    "instance",
    "_Feature"
   ],
   "window_display": false
  }
 },
 "nbformat": 4,
 "nbformat_minor": 2
}
